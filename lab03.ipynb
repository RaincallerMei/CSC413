{
  "cells": [
    {
      "cell_type": "markdown",
      "metadata": {
        "id": "view-in-github",
        "colab_type": "text"
      },
      "source": [
        "<a href=\"https://colab.research.google.com/github/RaincallerMei/CSC413/blob/main/lab03.ipynb\" target=\"_parent\"><img src=\"https://colab.research.google.com/assets/colab-badge.svg\" alt=\"Open In Colab\"/></a>"
      ]
    },
    {
      "cell_type": "markdown",
      "id": "f6b842e0",
      "metadata": {
        "id": "f6b842e0"
      },
      "source": [
        "# CSC413 Lab 3: Multi-Layer Perceptrons with MedMNIST\n",
        "\n",
        "MedMNIST's PneumoniaMNIST data set. We will now transition fully to\n",
        "using PyTorch for our labs going forward.\n",
        "\n",
        "By the end of this lab, you will be able to:\n",
        "\n",
        "1. Build and train an MLP using PyTorch\n",
        "2. Define the following performance metrics for evaluating machine learning models: true positive, true negative, false positive, false negative, precision, recall, ROC curve, and AUC.\n",
        "3. Interpret the confusion matrix.\n",
        "4. Explain the advantages of the AUC metrics over accuracy metrics.\n",
        "5. Perform grid search to find hyperparameters.\n",
        "\n",
        "Acknowledgements:\n",
        "\n",
        "- The MedMNIST data is from https://medmnist.com/\n",
        "- This assignment is written by Mahdi Haghifam, Sonya Allin, Lisa Zhang, Mike Pawliuk and Rutwa Engineer\n",
        "\n",
        "Please work in groups of 1-2 during the lab.\n",
        "\n",
        "## Submission\n",
        "\n",
        "If you are working with a partner, start by creating a group on Markus. If you are working alone,\n",
        "click \"Working Alone\".\n",
        "\n",
        "Submit the ipynb file `lab03.ipynb` on Markus\n",
        "**containing all your solutions to the Graded Task**s.\n",
        "Your notebook file must contain your code **and outputs** where applicable,\n",
        "including printed lines and images.\n",
        "Your TA will not run your code for the purpose of grading.\n",
        "\n",
        "For this lab, you should submit the following:\n",
        "\n",
        "- Part 2. Your expression that computes the number of trainable parameters in the MLPModel (1 point)\n",
        "- Part 2. Your implementation of `accuracy`. (1 point)\n",
        "- Part 2. Your implementation of `train_model`. (2 points)\n",
        "- Part 3. Your implementation of `precision` and `recall`. (2 points)\n",
        "- Part 3. Your interpretation of the confusion matrix for `m_once` (1 point)\n",
        "- Part 4. Your completion of the grid search, along with the output (2 point)\n",
        "- Part 4. Your description of why a model with high AUC may still perform poorly for some groups (1 point)"
      ]
    },
    {
      "cell_type": "code",
      "execution_count": 1,
      "id": "2baf0778",
      "metadata": {
        "id": "2baf0778"
      },
      "outputs": [],
      "source": [
        "import numpy as np\n",
        "import matplotlib.pyplot as plt"
      ]
    },
    {
      "cell_type": "markdown",
      "id": "5418e9b8",
      "metadata": {
        "id": "5418e9b8"
      },
      "source": [
        "## Google Colab Setup\n",
        "\n",
        "We will be using the `medmnist` data set, which is available as a Python package.\n",
        "Recall that on Google Colab, we use \"!\" to run shell commands."
      ]
    },
    {
      "cell_type": "code",
      "execution_count": 2,
      "id": "1e307016",
      "metadata": {
        "colab": {
          "base_uri": "https://localhost:8080/"
        },
        "collapsed": true,
        "id": "1e307016",
        "outputId": "d16c13aa-338e-42a6-85d8-abe944d92012"
      },
      "outputs": [
        {
          "output_type": "stream",
          "name": "stdout",
          "text": [
            "Collecting medmnist\n",
            "  Downloading medmnist-3.0.2-py3-none-any.whl.metadata (14 kB)\n",
            "Requirement already satisfied: numpy in /usr/local/lib/python3.10/dist-packages (from medmnist) (1.26.4)\n",
            "Requirement already satisfied: pandas in /usr/local/lib/python3.10/dist-packages (from medmnist) (2.2.2)\n",
            "Requirement already satisfied: scikit-learn in /usr/local/lib/python3.10/dist-packages (from medmnist) (1.6.0)\n",
            "Requirement already satisfied: scikit-image in /usr/local/lib/python3.10/dist-packages (from medmnist) (0.25.0)\n",
            "Requirement already satisfied: tqdm in /usr/local/lib/python3.10/dist-packages (from medmnist) (4.67.1)\n",
            "Requirement already satisfied: Pillow in /usr/local/lib/python3.10/dist-packages (from medmnist) (11.1.0)\n",
            "Collecting fire (from medmnist)\n",
            "  Downloading fire-0.7.0.tar.gz (87 kB)\n",
            "\u001b[?25l     \u001b[90m━━━━━━━━━━━━━━━━━━━━━━━━━━━━━━━━━━━━━━━━\u001b[0m \u001b[32m0.0/87.2 kB\u001b[0m \u001b[31m?\u001b[0m eta \u001b[36m-:--:--\u001b[0m\r\u001b[2K     \u001b[90m━━━━━━━━━━━━━━━━━━━━━━━━━━━━━━━━━━━━━━━━\u001b[0m \u001b[32m87.2/87.2 kB\u001b[0m \u001b[31m3.9 MB/s\u001b[0m eta \u001b[36m0:00:00\u001b[0m\n",
            "\u001b[?25h  Preparing metadata (setup.py) ... \u001b[?25l\u001b[?25hdone\n",
            "Requirement already satisfied: torch in /usr/local/lib/python3.10/dist-packages (from medmnist) (2.5.1+cu121)\n",
            "Requirement already satisfied: torchvision in /usr/local/lib/python3.10/dist-packages (from medmnist) (0.20.1+cu121)\n",
            "Requirement already satisfied: termcolor in /usr/local/lib/python3.10/dist-packages (from fire->medmnist) (2.5.0)\n",
            "Requirement already satisfied: python-dateutil>=2.8.2 in /usr/local/lib/python3.10/dist-packages (from pandas->medmnist) (2.8.2)\n",
            "Requirement already satisfied: pytz>=2020.1 in /usr/local/lib/python3.10/dist-packages (from pandas->medmnist) (2024.2)\n",
            "Requirement already satisfied: tzdata>=2022.7 in /usr/local/lib/python3.10/dist-packages (from pandas->medmnist) (2024.2)\n",
            "Requirement already satisfied: scipy>=1.11.2 in /usr/local/lib/python3.10/dist-packages (from scikit-image->medmnist) (1.13.1)\n",
            "Requirement already satisfied: networkx>=3.0 in /usr/local/lib/python3.10/dist-packages (from scikit-image->medmnist) (3.4.2)\n",
            "Requirement already satisfied: imageio!=2.35.0,>=2.33 in /usr/local/lib/python3.10/dist-packages (from scikit-image->medmnist) (2.36.1)\n",
            "Requirement already satisfied: tifffile>=2022.8.12 in /usr/local/lib/python3.10/dist-packages (from scikit-image->medmnist) (2024.12.12)\n",
            "Requirement already satisfied: packaging>=21 in /usr/local/lib/python3.10/dist-packages (from scikit-image->medmnist) (24.2)\n",
            "Requirement already satisfied: lazy-loader>=0.4 in /usr/local/lib/python3.10/dist-packages (from scikit-image->medmnist) (0.4)\n",
            "Requirement already satisfied: joblib>=1.2.0 in /usr/local/lib/python3.10/dist-packages (from scikit-learn->medmnist) (1.4.2)\n",
            "Requirement already satisfied: threadpoolctl>=3.1.0 in /usr/local/lib/python3.10/dist-packages (from scikit-learn->medmnist) (3.5.0)\n",
            "Requirement already satisfied: filelock in /usr/local/lib/python3.10/dist-packages (from torch->medmnist) (3.16.1)\n",
            "Requirement already satisfied: typing-extensions>=4.8.0 in /usr/local/lib/python3.10/dist-packages (from torch->medmnist) (4.12.2)\n",
            "Requirement already satisfied: jinja2 in /usr/local/lib/python3.10/dist-packages (from torch->medmnist) (3.1.5)\n",
            "Requirement already satisfied: fsspec in /usr/local/lib/python3.10/dist-packages (from torch->medmnist) (2024.10.0)\n",
            "Requirement already satisfied: sympy==1.13.1 in /usr/local/lib/python3.10/dist-packages (from torch->medmnist) (1.13.1)\n",
            "Requirement already satisfied: mpmath<1.4,>=1.1.0 in /usr/local/lib/python3.10/dist-packages (from sympy==1.13.1->torch->medmnist) (1.3.0)\n",
            "Requirement already satisfied: six>=1.5 in /usr/local/lib/python3.10/dist-packages (from python-dateutil>=2.8.2->pandas->medmnist) (1.17.0)\n",
            "Requirement already satisfied: MarkupSafe>=2.0 in /usr/local/lib/python3.10/dist-packages (from jinja2->torch->medmnist) (3.0.2)\n",
            "Downloading medmnist-3.0.2-py3-none-any.whl (25 kB)\n",
            "Building wheels for collected packages: fire\n",
            "  Building wheel for fire (setup.py) ... \u001b[?25l\u001b[?25hdone\n",
            "  Created wheel for fire: filename=fire-0.7.0-py3-none-any.whl size=114249 sha256=631db1bf09cf3b6937271209c9be23df99a0955559bb43d20ea10c2321249825\n",
            "  Stored in directory: /root/.cache/pip/wheels/19/39/2f/2d3cadc408a8804103f1c34ddd4b9f6a93497b11fa96fe738e\n",
            "Successfully built fire\n",
            "Installing collected packages: fire, medmnist\n",
            "Successfully installed fire-0.7.0 medmnist-3.0.2\n"
          ]
        }
      ],
      "source": [
        "!pip install medmnist"
      ]
    },
    {
      "cell_type": "markdown",
      "id": "6608ddd4",
      "metadata": {
        "id": "6608ddd4"
      },
      "source": [
        "## Part 1. Data\n",
        "\n",
        "We will use the MedMNIST data set, which is described here: [https://medmnist.com/](https://medmnist.com/).\n",
        "We will use the PneumoniaMNIST images, which are greyscale chest X-ray images that has been resized to 28x28.\n",
        "The task is to predict, given one of these X-ray images, whether the patient has pneumonia or not---a binary\n",
        "classification task.\n",
        "We chose this dataset both because it is lightweight, and because it allows us to discuss the sensitive nature of\n",
        "biomedical images.\n",
        "\n",
        "Let's begin by printing some information about the PneumoniaMNIST  data set:"
      ]
    },
    {
      "cell_type": "code",
      "execution_count": 3,
      "id": "5d0b0959",
      "metadata": {
        "colab": {
          "base_uri": "https://localhost:8080/"
        },
        "id": "5d0b0959",
        "outputId": "17ef6cff-dacc-42d5-ed3c-aa0ebc990957"
      },
      "outputs": [
        {
          "output_type": "execute_result",
          "data": {
            "text/plain": [
              "{'python_class': 'PneumoniaMNIST',\n",
              " 'description': 'The PneumoniaMNIST is based on a prior dataset of 5,856 pediatric chest X-Ray images. The task is binary-class classification of pneumonia against normal. We split the source training set with a ratio of 9:1 into training and validation set and use its source validation set as the test set. The source images are gray-scale, and their sizes are (384−2,916)×(127−2,713). We center-crop the images and resize them into 1×28×28.',\n",
              " 'url': 'https://zenodo.org/records/10519652/files/pneumoniamnist.npz?download=1',\n",
              " 'MD5': '28209eda62fecd6e6a2d98b1501bb15f',\n",
              " 'url_64': 'https://zenodo.org/records/10519652/files/pneumoniamnist_64.npz?download=1',\n",
              " 'MD5_64': '8f4eceb4ccffa70c672198ea285246c6',\n",
              " 'url_128': 'https://zenodo.org/records/10519652/files/pneumoniamnist_128.npz?download=1',\n",
              " 'MD5_128': '05b46931834c231683c68f40c47b2971',\n",
              " 'url_224': 'https://zenodo.org/records/10519652/files/pneumoniamnist_224.npz?download=1',\n",
              " 'MD5_224': 'd6a3c71de1b945ea11211b03746c1fe1',\n",
              " 'task': 'binary-class',\n",
              " 'label': {'0': 'normal', '1': 'pneumonia'},\n",
              " 'n_channels': 1,\n",
              " 'n_samples': {'train': 4708, 'val': 524, 'test': 624},\n",
              " 'license': 'CC BY 4.0'}"
            ]
          },
          "metadata": {},
          "execution_count": 3
        }
      ],
      "source": [
        "import numpy as np\n",
        "import matplotlib.pyplot as plt\n",
        "\n",
        "import medmnist\n",
        "from medmnist import PneumoniaMNIST\n",
        "\n",
        "medmnist.INFO['pneumoniamnist']"
      ]
    },
    {
      "cell_type": "markdown",
      "id": "efe6e21e",
      "metadata": {
        "id": "efe6e21e"
      },
      "source": [
        "**Task**: The dataset providers already split the data into training, validation, and test sets.\n",
        "How many samples are there in the training, validation, and test sets?"
      ]
    },
    {
      "cell_type": "code",
      "execution_count": 4,
      "id": "a1946219",
      "metadata": {
        "id": "a1946219"
      },
      "outputs": [],
      "source": [
        "# 'n_samples': {'train': 4708, 'val': 524, 'test': 624},"
      ]
    },
    {
      "cell_type": "markdown",
      "id": "0d4a9ea3",
      "metadata": {
        "id": "0d4a9ea3"
      },
      "source": [
        "Let's visually inspect the first element of the training data:"
      ]
    },
    {
      "cell_type": "code",
      "execution_count": 5,
      "id": "e898ef07",
      "metadata": {
        "colab": {
          "base_uri": "https://localhost:8080/",
          "height": 1000
        },
        "collapsed": true,
        "id": "e898ef07",
        "outputId": "2a904bd5-7e0f-42f3-c7f5-ce1436d75c8a"
      },
      "outputs": [
        {
          "output_type": "stream",
          "name": "stdout",
          "text": [
            "Downloading https://zenodo.org/records/10519652/files/pneumoniamnist.npz?download=1 to /root/.medmnist/pneumoniamnist.npz\n"
          ]
        },
        {
          "output_type": "stream",
          "name": "stderr",
          "text": [
            "100%|██████████| 4.17M/4.17M [00:00<00:00, 4.64MB/s]\n"
          ]
        },
        {
          "output_type": "stream",
          "name": "stdout",
          "text": [
            "[[ 92 108 117 111 101  90  70  49  28  60  83 119 156 186 211 204 192 203\n",
            "  204 166 115  90  53   0   0   5   8   6]\n",
            " [129 138 141 132 120 111 100  89  97 110 105 117 144 173 195 181 194 193\n",
            "  178 142 110  92  57  11   6   4   2   3]\n",
            " [141 146 148 143 134 128 126 126 140 156 143 137 144 162 180 165 159 166\n",
            "  155 135 126 110  79  55   8   0   0   0]\n",
            " [120 126 135 139 139 138 143 150 135 172 178 170 160 162 176 165 163 175\n",
            "  161 140 132 110  86  83  46  28  19  27]\n",
            " [105 114 126 135 143 154 165 174 147 179 185 182 172 169 178 166 177 180\n",
            "  158 141 144 135 121 125 110  89  77  81]\n",
            " [101 113 125 133 148 168 181 183 180 180 163 166 173 175 179 164 172 169\n",
            "  158 159 178 183 168 154 137 123 113 114]\n",
            " [ 83 107 126 136 155 178 181 167 167 152 131 150 173 177 181 168 185 181\n",
            "  177 171 170 177 169 146 142 136 130 127]\n",
            " [ 62  97 127 144 166 187 175 147 120 114 112 149 177 177 184 179 183 178\n",
            "  172 146 122 143 172 170 161 160 152 141]\n",
            " [ 45  90 136 150 191 177 158 139 131 118 119 143 170 184 192 201 202 184\n",
            "  164 146 130 128 152 182 186 185 158 138]\n",
            " [ 37  89 139 174 181 163 132 123 118 123 139 162 180 188 193 197 194 181\n",
            "  163 142 123 119 137 160 176 181 159 139]\n",
            " [ 25  87 144 190 163 145 115 119 119 140 164 179 186 192 197 198 191 185\n",
            "  169 145 123 115 126 139 166 180 163 141]\n",
            " [ 21  94 161 185 150 134 124 129 133 158 178 181 183 195 203 202 191 189\n",
            "  176 150 125 115 119 127 158 182 170 142]\n",
            " [ 23 111 184 167 144 124 129 122 139 160 175 176 183 200 206 201 190 187\n",
            "  176 154 128 113 114 121 145 180 173 141]\n",
            " [ 27 125 186 143 133 109 108  98 134 151 167 176 191 206 207 198 193 188\n",
            "  181 167 141 117 114 124 130 175 173 136]\n",
            " [ 42 140 168 129 124 109  93 102 142 153 167 180 197 209 209 202 195 187\n",
            "  185 181 154 120 112 124 121 173 174 132]\n",
            " [ 64 156 155 130 124 125 100 134 160 164 172 184 197 208 211 210 191 181\n",
            "  183 185 158 116 103 117 121 175 176 130]\n",
            " [ 91 166 128 119 102  94 108 128 159 182 179 186 202 206 210 199 201 192\n",
            "  190 185 165 146 125 102 128 140 182 122]\n",
            " [103 161 122 118 110 101 110 126 152 178 178 189 206 210 216 208 199 187\n",
            "  185 185 174 159 138 112 119 135 178 117]\n",
            " [127 155 109 104 107  99 104 117 148 176 179 191 206 207 211 205 199 184\n",
            "  181 183 179 170 149 123 111 131 175 111]\n",
            " [142 141  92  84  96  90  94 104 133 163 172 190 206 205 208 202 199 184\n",
            "  180 181 176 170 155 133 107 128 173 109]\n",
            " [135 124  94  91 111 106 108 113 119 149 162 188 210 211 216 212 197 184\n",
            "  181 179 171 167 160 146 105 121 165 106]\n",
            " [130 128 131 135 160 155 156 154 141 162 167 191 212 212 216 212 191 181\n",
            "  179 178 170 167 162 150 103 108 152 103]\n",
            " [140 148 174 173 195 191 195 192 182 191 180 193 209 206 208 204 186 175\n",
            "  173 175 169 164 153 135 102  97 140 104]\n",
            " [151 161 193 182 196 194 203 203 203 204 184 191 206 204 208 206 184 170\n",
            "  167 171 167 159 140 115 103  91 134 106]\n",
            " [162 176 190 197 201 205 206 204 204 203 203 207 211 211 208 203 171 176\n",
            "  183 188 187 181 172 165 113  85  97 127]\n",
            " [168 180 192 198 202 207 210 210 211 210 211 214 218 219 215 211 194 195\n",
            "  196 195 192 185 176 170 148 119 115 126]\n",
            " [173 184 195 200 204 211 215 216 217 216 217 220 224 225 221 217 212 209\n",
            "  205 201 196 189 182 177 176 153 139 132]\n",
            " [173 185 198 204 209 214 217 217 218 217 217 220 224 225 221 217 213 209\n",
            "  204 201 198 193 186 180 177 168 154 139]]\n",
            "[1]\n"
          ]
        },
        {
          "output_type": "display_data",
          "data": {
            "text/plain": [
              "<Figure size 640x480 with 1 Axes>"
            ],
            "image/png": "[encoded data removed]"
          },
          "metadata": {}
        }
      ],
      "source": [
        "train_data_imgs = PneumoniaMNIST(split='train', download=True)\n",
        "\n",
        "for img, target in train_data_imgs:\n",
        "    plt.imshow(img, cmap='gray')\n",
        "    print(np.array(img)) # img is a numpy array of shape 28x28 , with integer values between 0-255\n",
        "    print(target)        # the target\n",
        "    break"
      ]
    },
    {
      "cell_type": "markdown",
      "id": "083a9878",
      "metadata": {
        "id": "083a9878"
      },
      "source": [
        "**Task**: Based on the code above, what is the type of the data structure `train_data`?"
      ]
    },
    {
      "cell_type": "code",
      "execution_count": 6,
      "id": "154b10c2",
      "metadata": {
        "id": "154b10c2"
      },
      "outputs": [],
      "source": [
        "# 28*28?"
      ]
    },
    {
      "cell_type": "markdown",
      "id": "4b16cc8b",
      "metadata": {
        "id": "4b16cc8b"
      },
      "source": [
        "**Task**: The code below plots 5 images from each class: normal and pneumonia.\n",
        "Do you notice qualitative differences between these two sets of images?\n",
        "It is always important to qualitatively assess your data prior to training, so that you\n",
        "can develop intuition as to what features may or may not be important for your model.\n",
        "Understanding your data also helps to estimate how challenging the classification problem\n",
        "may be and identify incorrect implementations (e.g., a surprisingly high model accuracy could\n",
        "indicate issues with training set leakage into the test set)."
      ]
    },
    {
      "cell_type": "code",
      "execution_count": 7,
      "id": "e9da2ad3",
      "metadata": {
        "colab": {
          "base_uri": "https://localhost:8080/",
          "height": 412
        },
        "id": "e9da2ad3",
        "outputId": "59e8973e-f300-4aae-87b5-308c764b4aba"
      },
      "outputs": [
        {
          "output_type": "stream",
          "name": "stderr",
          "text": [
            "<ipython-input-7-480de79b2d2b>:5: DeprecationWarning: Conversion of an array with ndim > 0 to a scalar is deprecated, and will error in future. Ensure you extract a single element from your array before performing this operation. (Deprecated NumPy 1.25.)\n",
            "  if int(target) == 0:\n",
            "<ipython-input-7-480de79b2d2b>:16: DeprecationWarning: Conversion of an array with ndim > 0 to a scalar is deprecated, and will error in future. Ensure you extract a single element from your array before performing this operation. (Deprecated NumPy 1.25.)\n",
            "  if int(target) == 1:\n"
          ]
        },
        {
          "output_type": "display_data",
          "data": {
            "text/plain": [
              "<Figure size 640x480 with 5 Axes>"
            ],
            "image/png": "[encoded data removed]"
          },
          "metadata": {}
        },
        {
          "output_type": "display_data",
          "data": {
            "text/plain": [
              "<Figure size 640x480 with 5 Axes>"
            ],
            "image/png": "[encoded data removed]"
          },
          "metadata": {}
        }
      ],
      "source": [
        "# normal images\n",
        "plt.figure()\n",
        "n = 0\n",
        "for img, target in train_data_imgs:\n",
        "    if int(target) == 0:\n",
        "      plt.subplot(1, 5, n+1)\n",
        "      plt.title(\"normal\")\n",
        "      plt.imshow(img, cmap='gray')\n",
        "      n += 1\n",
        "    if n >= 5:\n",
        "      break\n",
        "# pneumonia images\n",
        "plt.figure()\n",
        "n = 0\n",
        "for img, target in train_data_imgs:\n",
        "    if int(target) == 1:\n",
        "      plt.subplot(1, 5, n+1)\n",
        "      plt.title(\"pneumonia\")\n",
        "      plt.imshow(img, cmap='gray')\n",
        "      n += 1\n",
        "    if n >= 5:\n",
        "      break"
      ]
    },
    {
      "cell_type": "code",
      "execution_count": 8,
      "id": "5fe95939",
      "metadata": {
        "id": "5fe95939"
      },
      "outputs": [],
      "source": [
        "# The middle part (spine?) is more bright, and has bigger vacancies? (grey parts) for pneumonia"
      ]
    },
    {
      "cell_type": "markdown",
      "id": "5dde844d",
      "metadata": {
        "id": "5dde844d"
      },
      "source": [
        "PyTorch makes it easy to apply pre-processing transformations to the data, for example to normalize\n",
        "the data prior to using for training. We will use the standard preprocessing functions to\n",
        "*transform the images into tensors* for PyTorch to be able to use. This transformation also\n",
        "changes the values to be floating-point numbers between 0 and 1."
      ]
    },
    {
      "cell_type": "code",
      "execution_count": 9,
      "id": "233f87ea",
      "metadata": {
        "colab": {
          "base_uri": "https://localhost:8080/"
        },
        "collapsed": true,
        "id": "233f87ea",
        "outputId": "17bea731-fa04-430e-f570-37befa5b78ae"
      },
      "outputs": [
        {
          "output_type": "stream",
          "name": "stdout",
          "text": [
            "Using downloaded and verified file: /root/.medmnist/pneumoniamnist.npz\n",
            "Using downloaded and verified file: /root/.medmnist/pneumoniamnist.npz\n",
            "Using downloaded and verified file: /root/.medmnist/pneumoniamnist.npz\n",
            "tensor([[[0.3608, 0.4235, 0.4588, 0.4353, 0.3961, 0.3529, 0.2745, 0.1922,\n",
            "          0.1098, 0.2353, 0.3255, 0.4667, 0.6118, 0.7294, 0.8275, 0.8000,\n",
            "          0.7529, 0.7961, 0.8000, 0.6510, 0.4510, 0.3529, 0.2078, 0.0000,\n",
            "          0.0000, 0.0196, 0.0314, 0.0235],\n",
            "         [0.5059, 0.5412, 0.5529, 0.5176, 0.4706, 0.4353, 0.3922, 0.3490,\n",
            "          0.3804, 0.4314, 0.4118, 0.4588, 0.5647, 0.6784, 0.7647, 0.7098,\n",
            "          0.7608, 0.7569, 0.6980, 0.5569, 0.4314, 0.3608, 0.2235, 0.0431,\n",
            "          0.0235, 0.0157, 0.0078, 0.0118],\n",
            "         [0.5529, 0.5725, 0.5804, 0.5608, 0.5255, 0.5020, 0.4941, 0.4941,\n",
            "          0.5490, 0.6118, 0.5608, 0.5373, 0.5647, 0.6353, 0.7059, 0.6471,\n",
            "          0.6235, 0.6510, 0.6078, 0.5294, 0.4941, 0.4314, 0.3098, 0.2157,\n",
            "          0.0314, 0.0000, 0.0000, 0.0000],\n",
            "         [0.4706, 0.4941, 0.5294, 0.5451, 0.5451, 0.5412, 0.5608, 0.5882,\n",
            "          0.5294, 0.6745, 0.6980, 0.6667, 0.6275, 0.6353, 0.6902, 0.6471,\n",
            "          0.6392, 0.6863, 0.6314, 0.5490, 0.5176, 0.4314, 0.3373, 0.3255,\n",
            "          0.1804, 0.1098, 0.0745, 0.1059],\n",
            "         [0.4118, 0.4471, 0.4941, 0.5294, 0.5608, 0.6039, 0.6471, 0.6824,\n",
            "          0.5765, 0.7020, 0.7255, 0.7137, 0.6745, 0.6627, 0.6980, 0.6510,\n",
            "          0.6941, 0.7059, 0.6196, 0.5529, 0.5647, 0.5294, 0.4745, 0.4902,\n",
            "          0.4314, 0.3490, 0.3020, 0.3176],\n",
            "         [0.3961, 0.4431, 0.4902, 0.5216, 0.5804, 0.6588, 0.7098, 0.7176,\n",
            "          0.7059, 0.7059, 0.6392, 0.6510, 0.6784, 0.6863, 0.7020, 0.6431,\n",
            "          0.6745, 0.6627, 0.6196, 0.6235, 0.6980, 0.7176, 0.6588, 0.6039,\n",
            "          0.5373, 0.4824, 0.4431, 0.4471],\n",
            "         [0.3255, 0.4196, 0.4941, 0.5333, 0.6078, 0.6980, 0.7098, 0.6549,\n",
            "          0.6549, 0.5961, 0.5137, 0.5882, 0.6784, 0.6941, 0.7098, 0.6588,\n",
            "          0.7255, 0.7098, 0.6941, 0.6706, 0.6667, 0.6941, 0.6627, 0.5725,\n",
            "          0.5569, 0.5333, 0.5098, 0.4980],\n",
            "         [0.2431, 0.3804, 0.4980, 0.5647, 0.6510, 0.7333, 0.6863, 0.5765,\n",
            "          0.4706, 0.4471, 0.4392, 0.5843, 0.6941, 0.6941, 0.7216, 0.7020,\n",
            "          0.7176, 0.6980, 0.6745, 0.5725, 0.4784, 0.5608, 0.6745, 0.6667,\n",
            "          0.6314, 0.6275, 0.5961, 0.5529],\n",
            "         [0.1765, 0.3529, 0.5333, 0.5882, 0.7490, 0.6941, 0.6196, 0.5451,\n",
            "          0.5137, 0.4627, 0.4667, 0.5608, 0.6667, 0.7216, 0.7529, 0.7882,\n",
            "          0.7922, 0.7216, 0.6431, 0.5725, 0.5098, 0.5020, 0.5961, 0.7137,\n",
            "          0.7294, 0.7255, 0.6196, 0.5412],\n",
            "         [0.1451, 0.3490, 0.5451, 0.6824, 0.7098, 0.6392, 0.5176, 0.4824,\n",
            "          0.4627, 0.4824, 0.5451, 0.6353, 0.7059, 0.7373, 0.7569, 0.7725,\n",
            "          0.7608, 0.7098, 0.6392, 0.5569, 0.4824, 0.4667, 0.5373, 0.6275,\n",
            "          0.6902, 0.7098, 0.6235, 0.5451],\n",
            "         [0.0980, 0.3412, 0.5647, 0.7451, 0.6392, 0.5686, 0.4510, 0.4667,\n",
            "          0.4667, 0.5490, 0.6431, 0.7020, 0.7294, 0.7529, 0.7725, 0.7765,\n",
            "          0.7490, 0.7255, 0.6627, 0.5686, 0.4824, 0.4510, 0.4941, 0.5451,\n",
            "          0.6510, 0.7059, 0.6392, 0.5529],\n",
            "         [0.0824, 0.3686, 0.6314, 0.7255, 0.5882, 0.5255, 0.4863, 0.5059,\n",
            "          0.5216, 0.6196, 0.6980, 0.7098, 0.7176, 0.7647, 0.7961, 0.7922,\n",
            "          0.7490, 0.7412, 0.6902, 0.5882, 0.4902, 0.4510, 0.4667, 0.4980,\n",
            "          0.6196, 0.7137, 0.6667, 0.5569],\n",
            "         [0.0902, 0.4353, 0.7216, 0.6549, 0.5647, 0.4863, 0.5059, 0.4784,\n",
            "          0.5451, 0.6275, 0.6863, 0.6902, 0.7176, 0.7843, 0.8078, 0.7882,\n",
            "          0.7451, 0.7333, 0.6902, 0.6039, 0.5020, 0.4431, 0.4471, 0.4745,\n",
            "          0.5686, 0.7059, 0.6784, 0.5529],\n",
            "         [0.1059, 0.4902, 0.7294, 0.5608, 0.5216, 0.4275, 0.4235, 0.3843,\n",
            "          0.5255, 0.5922, 0.6549, 0.6902, 0.7490, 0.8078, 0.8118, 0.7765,\n",
            "          0.7569, 0.7373, 0.7098, 0.6549, 0.5529, 0.4588, 0.4471, 0.4863,\n",
            "          0.5098, 0.6863, 0.6784, 0.5333],\n",
            "         [0.1647, 0.5490, 0.6588, 0.5059, 0.4863, 0.4275, 0.3647, 0.4000,\n",
            "          0.5569, 0.6000, 0.6549, 0.7059, 0.7725, 0.8196, 0.8196, 0.7922,\n",
            "          0.7647, 0.7333, 0.7255, 0.7098, 0.6039, 0.4706, 0.4392, 0.4863,\n",
            "          0.4745, 0.6784, 0.6824, 0.5176],\n",
            "         [0.2510, 0.6118, 0.6078, 0.5098, 0.4863, 0.4902, 0.3922, 0.5255,\n",
            "          0.6275, 0.6431, 0.6745, 0.7216, 0.7725, 0.8157, 0.8275, 0.8235,\n",
            "          0.7490, 0.7098, 0.7176, 0.7255, 0.6196, 0.4549, 0.4039, 0.4588,\n",
            "          0.4745, 0.6863, 0.6902, 0.5098],\n",
            "         [0.3569, 0.6510, 0.5020, 0.4667, 0.4000, 0.3686, 0.4235, 0.5020,\n",
            "          0.6235, 0.7137, 0.7020, 0.7294, 0.7922, 0.8078, 0.8235, 0.7804,\n",
            "          0.7882, 0.7529, 0.7451, 0.7255, 0.6471, 0.5725, 0.4902, 0.4000,\n",
            "          0.5020, 0.5490, 0.7137, 0.4784],\n",
            "         [0.4039, 0.6314, 0.4784, 0.4627, 0.4314, 0.3961, 0.4314, 0.4941,\n",
            "          0.5961, 0.6980, 0.6980, 0.7412, 0.8078, 0.8235, 0.8471, 0.8157,\n",
            "          0.7804, 0.7333, 0.7255, 0.7255, 0.6824, 0.6235, 0.5412, 0.4392,\n",
            "          0.4667, 0.5294, 0.6980, 0.4588],\n",
            "         [0.4980, 0.6078, 0.4275, 0.4078, 0.4196, 0.3882, 0.4078, 0.4588,\n",
            "          0.5804, 0.6902, 0.7020, 0.7490, 0.8078, 0.8118, 0.8275, 0.8039,\n",
            "          0.7804, 0.7216, 0.7098, 0.7176, 0.7020, 0.6667, 0.5843, 0.4824,\n",
            "          0.4353, 0.5137, 0.6863, 0.4353],\n",
            "         [0.5569, 0.5529, 0.3608, 0.3294, 0.3765, 0.3529, 0.3686, 0.4078,\n",
            "          0.5216, 0.6392, 0.6745, 0.7451, 0.8078, 0.8039, 0.8157, 0.7922,\n",
            "          0.7804, 0.7216, 0.7059, 0.7098, 0.6902, 0.6667, 0.6078, 0.5216,\n",
            "          0.4196, 0.5020, 0.6784, 0.4275],\n",
            "         [0.5294, 0.4863, 0.3686, 0.3569, 0.4353, 0.4157, 0.4235, 0.4431,\n",
            "          0.4667, 0.5843, 0.6353, 0.7373, 0.8235, 0.8275, 0.8471, 0.8314,\n",
            "          0.7725, 0.7216, 0.7098, 0.7020, 0.6706, 0.6549, 0.6275, 0.5725,\n",
            "          0.4118, 0.4745, 0.6471, 0.4157],\n",
            "         [0.5098, 0.5020, 0.5137, 0.5294, 0.6275, 0.6078, 0.6118, 0.6039,\n",
            "          0.5529, 0.6353, 0.6549, 0.7490, 0.8314, 0.8314, 0.8471, 0.8314,\n",
            "          0.7490, 0.7098, 0.7020, 0.6980, 0.6667, 0.6549, 0.6353, 0.5882,\n",
            "          0.4039, 0.4235, 0.5961, 0.4039],\n",
            "         [0.5490, 0.5804, 0.6824, 0.6784, 0.7647, 0.7490, 0.7647, 0.7529,\n",
            "          0.7137, 0.7490, 0.7059, 0.7569, 0.8196, 0.8078, 0.8157, 0.8000,\n",
            "          0.7294, 0.6863, 0.6784, 0.6863, 0.6627, 0.6431, 0.6000, 0.5294,\n",
            "          0.4000, 0.3804, 0.5490, 0.4078],\n",
            "         [0.5922, 0.6314, 0.7569, 0.7137, 0.7686, 0.7608, 0.7961, 0.7961,\n",
            "          0.7961, 0.8000, 0.7216, 0.7490, 0.8078, 0.8000, 0.8157, 0.8078,\n",
            "          0.7216, 0.6667, 0.6549, 0.6706, 0.6549, 0.6235, 0.5490, 0.4510,\n",
            "          0.4039, 0.3569, 0.5255, 0.4157],\n",
            "         [0.6353, 0.6902, 0.7451, 0.7725, 0.7882, 0.8039, 0.8078, 0.8000,\n",
            "          0.8000, 0.7961, 0.7961, 0.8118, 0.8275, 0.8275, 0.8157, 0.7961,\n",
            "          0.6706, 0.6902, 0.7176, 0.7373, 0.7333, 0.7098, 0.6745, 0.6471,\n",
            "          0.4431, 0.3333, 0.3804, 0.4980],\n",
            "         [0.6588, 0.7059, 0.7529, 0.7765, 0.7922, 0.8118, 0.8235, 0.8235,\n",
            "          0.8275, 0.8235, 0.8275, 0.8392, 0.8549, 0.8588, 0.8431, 0.8275,\n",
            "          0.7608, 0.7647, 0.7686, 0.7647, 0.7529, 0.7255, 0.6902, 0.6667,\n",
            "          0.5804, 0.4667, 0.4510, 0.4941],\n",
            "         [0.6784, 0.7216, 0.7647, 0.7843, 0.8000, 0.8275, 0.8431, 0.8471,\n",
            "          0.8510, 0.8471, 0.8510, 0.8627, 0.8784, 0.8824, 0.8667, 0.8510,\n",
            "          0.8314, 0.8196, 0.8039, 0.7882, 0.7686, 0.7412, 0.7137, 0.6941,\n",
            "          0.6902, 0.6000, 0.5451, 0.5176],\n",
            "         [0.6784, 0.7255, 0.7765, 0.8000, 0.8196, 0.8392, 0.8510, 0.8510,\n",
            "          0.8549, 0.8510, 0.8510, 0.8627, 0.8784, 0.8824, 0.8667, 0.8510,\n",
            "          0.8353, 0.8196, 0.8000, 0.7882, 0.7765, 0.7569, 0.7294, 0.7059,\n",
            "          0.6941, 0.6588, 0.6039, 0.5451]]])\n",
            "[1]\n"
          ]
        }
      ],
      "source": [
        "import torchvision.transforms as transforms # contains a collection of transformations\n",
        "\n",
        "train_data = PneumoniaMNIST(split='train', download=True, transform=transforms.ToTensor())\n",
        "val_data = PneumoniaMNIST(split='val', download=True, transform=transforms.ToTensor())\n",
        "test_data = PneumoniaMNIST(split='test', download=True, transform=transforms.ToTensor())\n",
        "\n",
        "for img, target in train_data:\n",
        "    print(img)    # img is a PyTorch tensor fo shape 1x28x28\n",
        "    print(target) # the target\n",
        "    break"
      ]
    },
    {
      "cell_type": "markdown",
      "id": "65c72b91",
      "metadata": {
        "id": "65c72b91"
      },
      "source": [
        "**Task**: How many X-ray images are in the training set *with* pneumonia? What about *without* pneumonia?\n",
        "What about the validation/test sets?\n",
        "What does your answer say about the data balance?"
      ]
    },
    {
      "cell_type": "code",
      "execution_count": 10,
      "id": "b1d8b7be",
      "metadata": {
        "colab": {
          "base_uri": "https://localhost:8080/",
          "height": 146
        },
        "id": "b1d8b7be",
        "outputId": "4826aa14-3004-430d-a0b0-9254ead3dde5"
      },
      "outputs": [
        {
          "output_type": "stream",
          "name": "stderr",
          "text": [
            "<ipython-input-10-fb3000b550f7>:5: DeprecationWarning: Conversion of an array with ndim > 0 to a scalar is deprecated, and will error in future. Ensure you extract a single element from your array before performing this operation. (Deprecated NumPy 1.25.)\n",
            "  if int(target) == 0:\n"
          ]
        },
        {
          "output_type": "stream",
          "name": "stdout",
          "text": [
            "(1214, 3494)\n",
            "(135, 389)\n",
            "(234, 390)\n"
          ]
        },
        {
          "output_type": "execute_result",
          "data": {
            "text/plain": [
              "'(1214, 3494)\\n(135, 389)\\n(234, 390)\\nNot balanced lol.\\n'"
            ],
            "application/vnd.google.colaboratory.intrinsic+json": {
              "type": "string"
            }
          },
          "metadata": {},
          "execution_count": 10
        }
      ],
      "source": [
        "def count_labels (dataset):\n",
        "  count_normal = 0\n",
        "  count_pneumonia = 0\n",
        "  for img, target in dataset:\n",
        "    if int(target) == 0:\n",
        "      count_normal += 1\n",
        "    else:\n",
        "      count_pneumonia += 1\n",
        "  return (count_normal, count_pneumonia)\n",
        "\n",
        "print(count_labels(train_data))\n",
        "print(count_labels(val_data))\n",
        "print(count_labels(test_data))\n",
        "\n",
        "'''(1214, 3494)\n",
        "(135, 389)\n",
        "(234, 390)\n",
        "Not balanced lol.\n",
        "'''"
      ]
    },
    {
      "cell_type": "markdown",
      "id": "2f27e5d2",
      "metadata": {
        "id": "2f27e5d2"
      },
      "source": [
        "## Part 2. Model and Training\n",
        "\n",
        "We will build our own PyTorch model, which will be a subclass of `nn.Module`.\n",
        "This subclass provides the important methods that we used in the training loop\n",
        "in lab 1, including the methods that allow us to compute the forward pass\n",
        "by calling the model object, and other methods used under the hood to compute\n",
        "the backward pass.\n",
        "\n",
        "Our model will be a three-layer MLP with the following architecture:\n",
        "ACTUALTODO---the model architecture may change!"
      ]
    },
    {
      "cell_type": "code",
      "execution_count": 11,
      "id": "78770f51",
      "metadata": {
        "id": "78770f51"
      },
      "outputs": [],
      "source": [
        "import torch\n",
        "import torch.nn as nn\n",
        "import torch.optim as optim\n",
        "\n",
        "class MLPModel(nn.Module):\n",
        "    \"\"\"A three-layer MLP model for binary classification\"\"\"\n",
        "    def __init__(self, input_dim=28*28, num_hidden=100):\n",
        "        super(MLPModel, self).__init__()\n",
        "        self.fc1 = nn.Linear(input_dim, num_hidden)\n",
        "        self.fc2 = nn.Linear(num_hidden, num_hidden)\n",
        "        self.fc3 = nn.Linear(num_hidden, 1)\n",
        "        self.relu = nn.ReLU()\n",
        "\n",
        "    def forward(self, x):\n",
        "        out = self.fc1(x)\n",
        "        out = self.relu(out)\n",
        "        out = self.fc2(out)\n",
        "        out = self.relu(out)\n",
        "        out = self.fc3(out)\n",
        "        return out"
      ]
    },
    {
      "cell_type": "markdown",
      "id": "2898b642",
      "metadata": {
        "id": "2898b642"
      },
      "source": [
        "**Graded Task**: How many trainable parameters are in this model?\n",
        "Express your answer in terms of `input_dim` and `num_hidden`."
      ]
    },
    {
      "cell_type": "code",
      "execution_count": 12,
      "id": "7b5c33be",
      "metadata": {
        "colab": {
          "base_uri": "https://localhost:8080/",
          "height": 36
        },
        "id": "7b5c33be",
        "outputId": "7d3d7ac8-b934-4297-81cb-2d7bb0d6762e"
      },
      "outputs": [
        {
          "output_type": "execute_result",
          "data": {
            "text/plain": [
              "'\\nweights = input_dim*num_hidden + num_hidden^2 + num_hidden,\\nbias = 2 * num_hidden + 1,\\n'"
            ],
            "application/vnd.google.colaboratory.intrinsic+json": {
              "type": "string"
            }
          },
          "metadata": {},
          "execution_count": 12
        }
      ],
      "source": [
        "'''\n",
        "weights = input_dim*num_hidden + num_hidden^2 + num_hidden,\n",
        "bias = 2 * num_hidden + 1,\n",
        "'''"
      ]
    },
    {
      "cell_type": "markdown",
      "id": "f1cd1924",
      "metadata": {
        "id": "f1cd1924"
      },
      "source": [
        "In order to assess model performance, we will begin by\n",
        "implementing the `accuracy` function, which computes the accuracy\n",
        "of the model across a dataset.\n",
        "\n",
        "**Graded Task**: Complete the `accuracy` function. Keep in mind\n",
        "that this function will be slightly different from the `accuracy`\n",
        "function in lab 1, since we are working on a binary classification\n",
        "problem and prediction here is a single logit value (rather than\n",
        "a vector)."
      ]
    },
    {
      "cell_type": "code",
      "execution_count": 13,
      "id": "cd4084d3",
      "metadata": {
        "collapsed": true,
        "id": "cd4084d3"
      },
      "outputs": [],
      "source": [
        "def accuracy(model, dataset):\n",
        "    \"\"\"\n",
        "    Compute the accuracy of `model` over the `dataset`.\n",
        "    We will take the **most probable class**\n",
        "    as the class predicted by the model.\n",
        "\n",
        "    Parameters:\n",
        "        `model` - A PyTorch MLPModel\n",
        "        `dataset` - A data structure that acts like a list of 2-tuples of\n",
        "                  the form (x, t), where `x` is a PyTorch tensor of shape\n",
        "                  [1, 28, 28] representing an MedMNIST image,\n",
        "                  and `t` is the corresponding binary target label\n",
        "\n",
        "    Returns: a floating-point value between 0 and 1.\n",
        "    \"\"\"\n",
        "\n",
        "    correct, total = 0, 0\n",
        "    loader = torch.utils.data.DataLoader(dataset, batch_size=100)\n",
        "    for img, t in loader:\n",
        "        X = img.reshape(-1, 784)\n",
        "        z = model(X)\n",
        "\n",
        "        t = t.float().view_as(z)\n",
        "        y = torch.sigmoid(z)\n",
        "\n",
        "        correct += int(torch.sum(t == y))\n",
        "        total   += t.shape[0]\n",
        "    return correct / total\n",
        "\n",
        "# modl = MLPModel()\n",
        "# print(accuracy(modl, train_data))"
      ]
    },
    {
      "cell_type": "markdown",
      "id": "56dfeb2c",
      "metadata": {
        "id": "56dfeb2c"
      },
      "source": [
        "Because we are working with binary classification, we will be using a\n",
        "different implementation of the cross-entropy loss function, implemented\n",
        "via PyTorch in a class called `BCEWithLogitsLoss` (short for\n",
        "Binary Cross Entropy with Logits loss)."
      ]
    },
    {
      "cell_type": "code",
      "execution_count": 14,
      "id": "714a6fac",
      "metadata": {
        "id": "714a6fac"
      },
      "outputs": [],
      "source": [
        "criterion = nn.BCEWithLogitsLoss()"
      ]
    },
    {
      "cell_type": "markdown",
      "id": "4aeb2641",
      "metadata": {
        "id": "4aeb2641"
      },
      "source": [
        "This loss function takes a predicted logit (pre-softmax activation)\n",
        "and the ground-truth label.\n",
        "The use of pre-softmax logits rather than prediction probabilities is\n",
        "due to numerical stability reasons."
      ]
    },
    {
      "cell_type": "code",
      "execution_count": 15,
      "id": "966c6835",
      "metadata": {
        "colab": {
          "base_uri": "https://localhost:8080/"
        },
        "id": "966c6835",
        "outputId": "c1f5a556-8f46-4eae-dca2-b07e29353fa7"
      },
      "outputs": [
        {
          "output_type": "stream",
          "name": "stdout",
          "text": [
            "tensor(0.0789)\n",
            "tensor(2.5789)\n"
          ]
        }
      ],
      "source": [
        "print(criterion(torch.tensor([2.5]),  # predicted\n",
        "                torch.tensor([1.])))  # actual\n",
        "\n",
        "print(criterion(torch.tensor([-2.5]), # predicted\n",
        "                torch.tensor([1.])))  # actual"
      ]
    },
    {
      "cell_type": "markdown",
      "id": "b0ed7df7",
      "metadata": {
        "id": "b0ed7df7"
      },
      "source": [
        "**Task**: Explain why the second printed\n",
        "value above is *larger* than the first. In other words,\n",
        "why does it make sense that we think of the second prediction\n",
        "(logit of z=-2.5) as \"worse\" than the first (logit of z=2.5)?"
      ]
    },
    {
      "cell_type": "code",
      "execution_count": 16,
      "id": "86a289fc",
      "metadata": {
        "id": "86a289fc"
      },
      "outputs": [],
      "source": [
        "# The second printed value being big shows that (z = -2.5) has MORE LOSS, thus is MORE WRONG compared to 2.5"
      ]
    },
    {
      "cell_type": "markdown",
      "id": "5abcb2d2",
      "metadata": {
        "id": "5abcb2d2"
      },
      "source": [
        "**Graded Task**: Complete the following code to be used for training."
      ]
    },
    {
      "cell_type": "code",
      "execution_count": 17,
      "id": "9d7fb906",
      "metadata": {
        "colab": {
          "base_uri": "https://localhost:8080/",
          "height": 1000
        },
        "id": "9d7fb906",
        "outputId": "14b87daa-0f62-4f69-b1c0-5045618ecae2"
      },
      "outputs": [
        {
          "output_type": "stream",
          "name": "stdout",
          "text": [
            "50 Loss: 0.5815964341163635 Train Acc: 0.0 Val Acc: 0.0\n",
            "100 Loss: 0.4649064242839813 Train Acc: 0.0 Val Acc: 0.0\n",
            "150 Loss: 0.5679618716239929 Train Acc: 0.0 Val Acc: 0.0\n",
            "200 Loss: 0.5471993088722229 Train Acc: 0.0 Val Acc: 0.0\n",
            "250 Loss: 0.5734689235687256 Train Acc: 0.0 Val Acc: 0.0\n",
            "300 Loss: 0.5460927486419678 Train Acc: 0.0 Val Acc: 0.0\n",
            "350 Loss: 0.49901795387268066 Train Acc: 0.0 Val Acc: 0.0\n",
            "400 Loss: 0.5028541684150696 Train Acc: 0.0 Val Acc: 0.0\n",
            "450 Loss: 0.48054778575897217 Train Acc: 0.0 Val Acc: 0.0\n"
          ]
        },
        {
          "output_type": "display_data",
          "data": {
            "text/plain": [
              "<Figure size 640x480 with 1 Axes>"
            ],
            "image/png": "[encoded data removed]"
          },
          "metadata": {}
        },
        {
          "output_type": "display_data",
          "data": {
            "text/plain": [
              "<Figure size 640x480 with 1 Axes>"
            ],
            "image/png": "[encoded data removed]"
          },
          "metadata": {}
        }
      ],
      "source": [
        "def train_model(model,                # an instance of MLPModel\n",
        "                train_data,           # training data\n",
        "                val_data,             # validation data\n",
        "                learning_rate=0.1,\n",
        "                batch_size=100,\n",
        "                num_epochs=10,\n",
        "                plot_every=50,        # how often (in # iterations) to track metrics (loss, etc) of model\n",
        "                plot=True):           # whether to plot the training curve\n",
        "    train_loader = torch.utils.data.DataLoader(train_data,\n",
        "                                               batch_size=batch_size,\n",
        "                                               shuffle=True) # reshuffle minibatches every epoch\n",
        "    criterion = nn.BCEWithLogitsLoss()\n",
        "    optimizer = optim.SGD(model.parameters(), lr=learning_rate)\n",
        "\n",
        "    # these lists will be used to track the training progress\n",
        "    # and to plot the training curve\n",
        "    iters, train_loss, train_acc, val_acc = [], [], [], []\n",
        "    iter_count = 0 # count the number of iterations that has passed\n",
        "\n",
        "    try:\n",
        "        for e in range(num_epochs):\n",
        "            for i, (images, labels) in enumerate(train_loader):\n",
        "                x = images.reshape(-1, 784)\n",
        "                z = model(x)\n",
        "                y = torch.sigmoid(z)\n",
        "\n",
        "                labels = labels.float().view_as(z)\n",
        "                loss = criterion(y, labels)\n",
        "\n",
        "                loss.backward() # propagate the gradients\n",
        "                optimizer.step() # update the parameters\n",
        "                optimizer.zero_grad() # clean up accumualted gradients\n",
        "\n",
        "                iter_count += 1\n",
        "                if iter_count % plot_every == 0:\n",
        "                    iters.append(iter_count)\n",
        "                    ta = accuracy(model, train_data)\n",
        "                    va = accuracy(model, val_data)\n",
        "                    train_loss.append(float(loss))\n",
        "                    train_acc.append(ta)\n",
        "                    val_acc.append(va)\n",
        "                    print(iter_count, \"Loss:\", float(loss), \"Train Acc:\", ta, \"Val Acc:\", va)\n",
        "    finally:\n",
        "        # This try/finally block is to display the training curve\n",
        "        # even if training is interrupted\n",
        "        if plot:\n",
        "            plt.figure()\n",
        "            plt.plot(iters[:len(train_loss)], train_loss)\n",
        "            plt.title(\"Loss over iterations\")\n",
        "            plt.xlabel(\"Iterations\")\n",
        "            plt.ylabel(\"Loss\")\n",
        "\n",
        "            plt.figure()\n",
        "            plt.plot(iters[:len(train_acc)], train_acc)\n",
        "            plt.plot(iters[:len(val_acc)], val_acc)\n",
        "            plt.title(\"Accuracy over iterations\")\n",
        "            plt.xlabel(\"Iterations\")\n",
        "            plt.ylabel(\"Accuracy\")\n",
        "            plt.legend([\"Train\", \"Validation\"])\n",
        "\n",
        "# Please include the output of this cell for grading\n",
        "model = MLPModel()\n",
        "train_model(model, train_data, val_data)"
      ]
    },
    {
      "cell_type": "markdown",
      "id": "77492a67",
      "metadata": {
        "id": "77492a67"
      },
      "source": [
        "**Task**: Suppose that a model has a validation accuracy of 74% for this\n",
        "binary classification task. Why would this model be considered a very bad model?\n",
        "Your answer should illustrate why accuracy may not be an excellent tool to use."
      ]
    },
    {
      "cell_type": "code",
      "execution_count": null,
      "id": "7535890e",
      "metadata": {
        "id": "7535890e"
      },
      "outputs": [],
      "source": [
        "# TODO: Write your explanation here"
      ]
    },
    {
      "cell_type": "markdown",
      "id": "998bd096",
      "metadata": {
        "id": "998bd096"
      },
      "source": [
        "## Part 3. Performance Metrics\n",
        "\n",
        "We often use accuracy as a go-to metric when evaluating the performance of\n",
        "a classification model. However, the accuracy measure weighs all errors equally.\n",
        "A deeper look into the types of errors made can provide a more complete picture\n",
        "of model performance, especially when there is data imbalance and---when applying\n",
        "models in real situations---when some errors may be associated with more serious\n",
        "impacts to users than others.\n",
        "\n",
        "To start our explorations, we'll look at the decisions we made well, i.e. the:\n",
        "\n",
        "- True Positives (TP), or positive outcomes that were correctly predicted as positive.\n",
        "- True Negatives (TN), or negative outcomes that were correctly predicted as negative.\n",
        "\n",
        "Then we will look at our mistakes, i.e. the:\n",
        "\n",
        "- False Positives (FP, or Type I errors), or negative outcomes that were predicted as positive. In our case, this occurs when our model predicts that a person has heart disease, but they do not.\n",
        "- False Negatives (FN, or Type II errors), or positive outcomes that were predicted as negative. In our case, this occurs when our model predicts that a person does not have heart disease, but they do.\n",
        "\n",
        "We can then use the metrics above to calculate:\n",
        "\n",
        "- Precision (or True Positive Rate, or Positive Predicive Value): $\\frac{TP}{TP + FP}$. The answers the question: out of all the examples that we predicted as positive, how many are really positive?\n",
        "- Recall (or Sensitivity): $\\frac{TP}{TP + FN}$. The answers the question: out of all the positive examples in the data set, how many did we predict as positive?\n",
        "- Negative Predicive Value: $\\frac{TN}{TN + FN}$. The answers the question: out of all the examples that we predicted as negative, how many are really negative?\n",
        "\n",
        "Note that there are many metrics with subtly different meanings and interpretations. Make sure to be precise in what you present and why!\n",
        "\n",
        "**Graded Task**: Complete the functions `precision` and `recall`:"
      ]
    },
    {
      "cell_type": "code",
      "execution_count": null,
      "id": "248b2455",
      "metadata": {
        "id": "248b2455"
      },
      "outputs": [],
      "source": [
        "def precision(model, dataset):\n",
        "    \"\"\"\n",
        "    Compute the precision of `model` over the `dataset`.  We will take the\n",
        "    **most probable class** as the class predicted by the model.\n",
        "\n",
        "    Parameters:\n",
        "        `model` - A PyTorch MLPModel\n",
        "        `dataset` - A data structure that acts like a list of 2-tuples of\n",
        "                  the form (x, t), where `x` is a PyTorch tensor of shape\n",
        "                  [1, 28, 28] representing an MedMNIST image,\n",
        "                  and `t` is the corresponding binary target label\n",
        "\n",
        "    Returns: a floating-point value between 0 and 1.\n",
        "    \"\"\"\n",
        "    true_pos, total_pred_pos = 0, 0\n",
        "    loader = torch.utils.data.DataLoader(dataset, batch_size=100)\n",
        "    for img, t in loader:\n",
        "        X = img.reshape(-1, 784)\n",
        "        z = model(X)\n",
        "\n",
        "        y = None # TODO: pred should be a [N, 1] tensor with binary\n",
        "                    # predictions, (0 or 1 in each entry)\n",
        "\n",
        "        # TODO: update total_pred_pos and true_pos\n",
        "    return true_pos / total_pred_pos\n",
        "\n",
        "\n",
        "def recall(model, dataset):\n",
        "    \"\"\"\n",
        "    Compute the recall (or sensitivity) of `model` over the `dataset`.  We will\n",
        "    take the **most probable class** as the class predicted by the model.\n",
        "\n",
        "    Parameters:\n",
        "        `model` - A PyTorch MLPModel\n",
        "        `dataset` - A data structure that acts like a list of 2-tuples of\n",
        "                  the form (x, t), where `x` is a PyTorch tensor of shape\n",
        "                  [1, 28, 28] representing an MedMNIST image,\n",
        "                  and `t` is the corresponding binary target label\n",
        "\n",
        "    Returns: a floating-point value between 0 and 1.\n",
        "    \"\"\"\n",
        "    true_pos, total_actual_pos = 0, 0 # track the true and false positive\n",
        "    loader = torch.utils.data.DataLoader(dataset, batch_size=100)\n",
        "    for img, t in loader:\n",
        "        X = img.reshape(-1, 784)\n",
        "        z = model(X)\n",
        "\n",
        "        y = None # TODO: pred should be a [N, 1] tensor with binary\n",
        "                    # predictions, (0 or 1 in each entry)\n",
        "\n",
        "        # TODO: update total_pos and true_pos\n",
        "    return true_pos / total_actual_pos\n",
        "\n",
        "print(\"Precision(Training)\", precision(model, train_data))\n",
        "print(\"Recall(Training)\", recall(model, train_data))\n",
        "print(\"Precision(Validation)\", precision(model, val_data))\n",
        "print(\"Recall(Validation)\", recall(model, val_data))"
      ]
    },
    {
      "cell_type": "markdown",
      "id": "850ffeb7",
      "metadata": {
        "id": "850ffeb7"
      },
      "source": [
        "A **confusion matrix** is a table that shows the number of TP, TN, FP, and FN.  A confusion matrix can be a valuable tool in understanding\n",
        "why a model makes the mistake that it makes.\n",
        "\n",
        "**Task** Run the code below to display the confusion matrix for your model\n",
        "for the validation data."
      ]
    },
    {
      "cell_type": "code",
      "execution_count": null,
      "id": "ba2b4fd5",
      "metadata": {
        "id": "ba2b4fd5"
      },
      "outputs": [],
      "source": [
        "from sklearn.metrics import confusion_matrix, ConfusionMatrixDisplay\n",
        "\n",
        "def get_prediction(model, data, sample=1000):\n",
        "    loader = torch.utils.data.DataLoader(data, batch_size=sample, shuffle=True)\n",
        "    for X, t in loader:\n",
        "        z = model(X.view(-1, 784))\n",
        "        y = torch.sigmoid(z)\n",
        "        break\n",
        "    y = y.detach().numpy()\n",
        "    t = t.detach().numpy()\n",
        "    return y, t\n",
        "\n",
        "y, t = get_prediction(model, val_data)\n",
        "y = y > 0.5\n",
        "cm = confusion_matrix(t, y)\n",
        "cmp = ConfusionMatrixDisplay(cm, display_labels=[\"0\", \"1\"])\n",
        "cmp.plot()\n",
        "plt.title(\"Confusion Matrix (Val Data)\")"
      ]
    },
    {
      "cell_type": "markdown",
      "id": "7e14eba0",
      "metadata": {
        "id": "7e14eba0"
      },
      "source": [
        "**Task**: The code below trains a MLPModel for a very few number\n",
        "of iterations. You should see that this model achieves a 74% accuracy.\n",
        "Display the confusion matrix for this model by running the code below."
      ]
    },
    {
      "cell_type": "code",
      "execution_count": null,
      "id": "44e66e8c",
      "metadata": {
        "id": "44e66e8c"
      },
      "outputs": [],
      "source": [
        "m_once = MLPModel()\n",
        "train_model(m_once, train_data, val_data, learning_rate=0.5, batch_size=500, num_epochs=1)\n",
        "print(\"Training Accuracy:\", accuracy(m_once, train_data))\n",
        "print(\"Validation Accuracy:\", accuracy(m_once, val_data))\n",
        "\n",
        "y, t = get_prediction(m_once, val_data)\n",
        "y = y > 0.5\n",
        "ConfusionMatrixDisplay(confusion_matrix(t, y), display_labels=[\"0\", \"1\"]).plot()\n",
        "plt.title(\"Confusion Matrix (Val Data)\")"
      ]
    },
    {
      "cell_type": "markdown",
      "id": "65d26b2e",
      "metadata": {
        "id": "65d26b2e"
      },
      "source": [
        "**Graded Task**: What does the confusion matrix tell you about how\n",
        "the `m_once` model is achieving 74% accuracy?"
      ]
    },
    {
      "cell_type": "code",
      "execution_count": null,
      "id": "5d12df55",
      "metadata": {
        "id": "5d12df55"
      },
      "outputs": [],
      "source": [
        "# TODO: Your explanation goes here."
      ]
    },
    {
      "cell_type": "markdown",
      "id": "1b790ddb",
      "metadata": {
        "id": "1b790ddb"
      },
      "source": [
        "We have been choosing a threshold of 0.5 for turning our continuous predicted\n",
        "probabilities into a discrete prediction. However, this can be an\n",
        "arbitrary choice.\n",
        "\n",
        "**Task**: Note that we looked at the sign of the logits at the beginning of the notebook, and are now using a threshold of 0.5. Think about what relationship these two values (0 and 0.5) have. How do you obtain one from the other?"
      ]
    },
    {
      "cell_type": "code",
      "execution_count": null,
      "id": "505d9c04",
      "metadata": {
        "id": "505d9c04"
      },
      "outputs": [],
      "source": [
        "# TODO: Your explanation goes here."
      ]
    },
    {
      "cell_type": "markdown",
      "id": "7d6526df",
      "metadata": {
        "id": "7d6526df"
      },
      "source": [
        "**Task**: Explain why, in practical application, it may be reasonable to use a different\n",
        "threshold value. In what situation might you want the threshold to be set\n",
        "very high in order to make a positive prediction? What about a negative prediction?"
      ]
    },
    {
      "cell_type": "code",
      "execution_count": null,
      "id": "57648f1d",
      "metadata": {
        "id": "57648f1d"
      },
      "outputs": [],
      "source": [
        "# TODO: Your explanation goes here."
      ]
    },
    {
      "cell_type": "markdown",
      "id": "db167726",
      "metadata": {
        "id": "db167726"
      },
      "source": [
        "A **receiver operating characteristic curve** (or ROC) shows how the True Positive Rate and False Positive Rate vary based on our choice of the decision making threshold used to binarize predictions.  By default, this threshold is 0.5, but it can be changed to any value between 0 and 1. Different thresholds will result in different TP and FP rates, all of which are illustrated on our graph. we can calculate the area underneath this curve in order to get a sense as to how our classifiers might work across a wide range of different thresholds. This calcution of area can also be used as a metric of our model's \"goodness\", and it is called AUC (or \"Area Under Curve\").\n",
        "\n",
        "The AUC metric is particularly useful for machine learning practitioners\n",
        "because it does *not* depend on the choice of the threshold value used\n",
        "for making discrete predicions. The metric is also resistant to\n",
        "measurement.\n",
        "\n",
        "**Task**: Is it better for the AUC to be larger or smaller? Explain why."
      ]
    },
    {
      "cell_type": "code",
      "execution_count": null,
      "id": "4bb7fe94",
      "metadata": {
        "id": "4bb7fe94"
      },
      "outputs": [],
      "source": [
        "# TODO: Your explanation goes here"
      ]
    },
    {
      "cell_type": "markdown",
      "id": "e6399516",
      "metadata": {
        "id": "e6399516"
      },
      "source": [
        "The code below plots the ROC curve for a model."
      ]
    },
    {
      "cell_type": "code",
      "execution_count": null,
      "id": "e240f0aa",
      "metadata": {
        "id": "e240f0aa"
      },
      "outputs": [],
      "source": [
        "from sklearn.metrics import roc_curve, RocCurveDisplay, auc\n",
        "\n",
        "y, t = get_prediction(model, val_data)\n",
        "\n",
        "fpr, tpr, thresholds = roc_curve(t, y)\n",
        "roc_auc = auc(fpr, tpr)\n",
        "rocp = RocCurveDisplay(fpr=fpr, tpr=tpr, roc_auc=roc_auc)\n",
        "rocp.plot()\n",
        "plt.title(\"Validation ROC Curve\")\n",
        "\n",
        "\n",
        "y, t = get_prediction(model, train_data)\n",
        "\n",
        "fpr, tpr, thresholds = roc_curve(t, y)\n",
        "roc_auc = auc(fpr, tpr)\n",
        "rocp = RocCurveDisplay(fpr=fpr, tpr=tpr, roc_auc=roc_auc)\n",
        "rocp.plot()\n",
        "plt.title(\"Training ROC Curve\")"
      ]
    },
    {
      "cell_type": "markdown",
      "id": "c3218784",
      "metadata": {
        "id": "c3218784"
      },
      "source": [
        "Here is a function you can use to estimate the auc:"
      ]
    },
    {
      "cell_type": "code",
      "execution_count": null,
      "id": "dc804f16",
      "metadata": {
        "id": "dc804f16"
      },
      "outputs": [],
      "source": [
        "def get_auc(model, data):\n",
        "    y, t = get_prediction(model, data)\n",
        "    fpr, tpr, thresholds = roc_curve(t, y)\n",
        "    return auc(fpr, tpr)"
      ]
    },
    {
      "cell_type": "markdown",
      "id": "5bf0cca3",
      "metadata": {
        "id": "5bf0cca3"
      },
      "source": [
        "## Part 4. Hyperparameter Tuning via Grid Search\n",
        "\n",
        "As we mentioned in lab 1, hyperparameter choices matter significantly,\n",
        "and these hyperparameter choices interact with one another.\n",
        "Practitioners use a strategy called **grid search** to try\n",
        "all variations of hyperparameters from a set of hyperparameters.\n",
        "\n",
        "One very important hyperparameter is the number of hidden units in our MLPModel.\n",
        "This setting affects the number of parameters (weights/biases) used in our model.\n",
        "\n",
        "The use of ReLU vs sigmoid activation function is another hyperparameter that we\n",
        "will explore.\n",
        "\n",
        "Finally, optimization parameters like the batch size and the learning rate can\n",
        "also significantly affect the learning process."
      ]
    },
    {
      "cell_type": "code",
      "execution_count": null,
      "id": "87e88c9a",
      "metadata": {
        "id": "87e88c9a"
      },
      "outputs": [],
      "source": [
        "class MLPModelSigmoid(nn.Module):\n",
        "    \"\"\"A three-layer MLP model for binary classification\"\"\"\n",
        "    def __init__(self, input_dim=28*28, num_hidden=100):\n",
        "        super(MLPModelSigmoid, self).__init__()\n",
        "        self.fc1 = nn.Linear(input_dim, num_hidden)\n",
        "        self.fc2 = nn.Linear(num_hidden, num_hidden)\n",
        "        self.fc3 = nn.Linear(num_hidden, 1)\n",
        "        self.sig = nn.Sigmoid()\n",
        "\n",
        "    def forward(self, x):\n",
        "        out = self.fc1(x)\n",
        "        out = self.sig(out)\n",
        "        out = self.fc2(out)\n",
        "        out = self.sig(out)\n",
        "        out = self.fc3(out)\n",
        "        return out"
      ]
    },
    {
      "cell_type": "markdown",
      "id": "7b8a4a1e",
      "metadata": {
        "id": "7b8a4a1e"
      },
      "source": [
        "**Graded Task**: Complete the code below, which performs grid search over the following hyperparameter\n",
        "values of the:\n",
        "\n",
        "- hidden size\n",
        "- activation function (ReLu vs sigmoid activation)\n",
        "- batch size\n",
        "- learning rate\n",
        "\n",
        "Do so by creating a new model and train it with the appropriate\n",
        "settings, then assessing the final training/validation accuracy,\n",
        "precision, recall, and AUC score. You may use to use\n",
        "the flag `plot=False` when calling `train_model`. You might\n",
        "also set `plot_every` to a large value and visualize the\n",
        "training curve as a separate step for hyperparameter values\n",
        "that you're interested in.\n",
        "\n",
        "Please include all your output in your submission.\n",
        "\n",
        "(There is one more graded task below that you can complete while the\n",
        "hyperparameter tuning is running.)"
      ]
    },
    {
      "cell_type": "code",
      "execution_count": null,
      "id": "3eac4e78",
      "metadata": {
        "id": "3eac4e78"
      },
      "outputs": [],
      "source": [
        "gridsearch = {}\n",
        "for num_hidden in [25, 100, 250]:\n",
        "    for act in [\"relu\", \"sigmoid\"]:\n",
        "        for bs in [10, 100, 500]:\n",
        "            for lr in [0.01, 0.1]:\n",
        "                # Adjust num_epoch based on the batch size, so that we\n",
        "                # train for the same number of iterations irrespective\n",
        "                # of batch size\n",
        "                ne = int(20 * (bs/100))\n",
        "\n",
        "                modelname = f\"num_hidden: {num_hidden}, activation: {act}, batch_size: {bs}, learning_rate: {lr}\"\n",
        "                print(f\"========={modelname}\")\n",
        "\n",
        "                # TODO: create and train the model with the appropriate settings\n",
        "\n",
        "                # Update and display metrics. This part is done for you.\n",
        "                metrics = {\n",
        "                    \"acc_train\": accuracy(m, train_data),\n",
        "                    \"acc_val\": accuracy(m, val_data),\n",
        "                    \"precision_train\": precision(m, train_data),\n",
        "                    \"precision_val\": precision(m, val_data),\n",
        "                    \"recall_train\": recall(m, train_data),\n",
        "                    \"recall_val\": recall(m, val_data),\n",
        "                    \"auc_train\": get_auc(m, train_data),\n",
        "                    \"auc_val\": get_auc(m, val_data),\n",
        "                }\n",
        "                gridsearch[modelname] = metrics\n",
        "                print(f'Accuracy (train):{metrics[\"acc_train\"]} (val):{metrics[\"acc_val\"]}')\n",
        "                print(f'Precision (train):{metrics[\"precision_train\"]} (val):{metrics[\"precision_val\"]}')\n",
        "                print(f'Recall (train):{metrics[\"recall_train\"]} (val):{metrics[\"recall_val\"]}')\n",
        "                print(f'AUC (train):{metrics[\"auc_train\"]} (val):{metrics[\"auc_val\"]}')"
      ]
    },
    {
      "cell_type": "markdown",
      "id": "bbec8b01",
      "metadata": {
        "id": "bbec8b01"
      },
      "source": [
        "Please include the below output in your submission"
      ]
    },
    {
      "cell_type": "code",
      "execution_count": null,
      "id": "ef10119e",
      "metadata": {
        "id": "ef10119e"
      },
      "outputs": [],
      "source": [
        "print(gridsearch)"
      ]
    },
    {
      "cell_type": "markdown",
      "id": "ed631ee3",
      "metadata": {
        "id": "ed631ee3"
      },
      "source": [
        "**Task**: Which hyperparameter choice is the \"best\"? You should base this answer on the\n",
        "validation AUC. Use the other metrics as a guide to understand the kinds of predictions and mistakes\n",
        "that your model is likely make.\n",
        "Train a final model with those hyperparameter values."
      ]
    },
    {
      "cell_type": "code",
      "execution_count": null,
      "id": "9ee3a92a",
      "metadata": {
        "id": "9ee3a92a"
      },
      "outputs": [],
      "source": [
        "# TODO"
      ]
    },
    {
      "cell_type": "markdown",
      "id": "87f44d86",
      "metadata": {
        "id": "87f44d86"
      },
      "source": [
        "**Task**: Report the test accuracy and AUC for this model, and plot the confusion matrix over the test set."
      ]
    },
    {
      "cell_type": "code",
      "execution_count": null,
      "id": "a2ae3e41",
      "metadata": {
        "id": "a2ae3e41"
      },
      "outputs": [],
      "source": [
        "# TODO"
      ]
    },
    {
      "cell_type": "markdown",
      "id": "311a753a",
      "metadata": {
        "id": "311a753a"
      },
      "source": [
        "**Graded Task**: Explain why a model with high AUC may still\n",
        "produce consistently poor predictions for a subset of the population.\n",
        "You might find this article interesting: [Gender imbalance in medical imaging datasets produces biased classifiers for computer-aided diagnosis](https://www.pnas.org/doi/10.1073/pnas.1919012117); in particular,\n",
        "Figure 1 shows how test AUC differs male/female patients depending on the training set used."
      ]
    },
    {
      "cell_type": "code",
      "execution_count": null,
      "id": "a64ab628",
      "metadata": {
        "id": "a64ab628"
      },
      "outputs": [],
      "source": [
        "# TODO"
      ]
    }
  ],
  "metadata": {
    "colab": {
      "provenance": [],
      "include_colab_link": true
    },
    "language_info": {
      "name": "python"
    },
    "kernelspec": {
      "name": "python3",
      "display_name": "Python 3"
    }
  },
  "nbformat": 4,
  "nbformat_minor": 5
}